{
 "cells": [
  {
   "cell_type": "markdown",
   "id": "a5aac722",
   "metadata": {},
   "source": [
    "# The Sparks Foundation\n",
    "## Task : Color Identification in Images\n",
    "## Author : Vijay Kumar Chelluboyana"
   ]
  },
  {
   "cell_type": "code",
   "execution_count": null,
   "id": "7d9689bd",
   "metadata": {},
   "outputs": [],
   "source": [
    "!pip install opencv-python"
   ]
  },
  {
   "cell_type": "code",
   "execution_count": null,
   "id": "e26cf2d4",
   "metadata": {},
   "outputs": [],
   "source": [
    "import pandas as pd\n",
    "import cv2\n",
    "img_path=\"C:\\\\Users\\\\VIJJU\\\\OneDrive\\\\Desktop\\\\PROJECT\\\\colorpic.jpg\"\n",
    "csv_path=\"C:\\\\Users\\\\VIJJU\\\\OneDrive\\\\Desktop\\\\PROJECT\\\\colors.csv\"\n",
    "img=cv2.imread(img_path)\n",
    "index=[\"color\",\"color_name\",\"hex\",\"R\",\"G\",\"B\"]\n",
    "data = pd.read_csv(csv_path, names=index, header=None)\n",
    "clicked=False\n",
    "r=g=b=xp=yp=0\n",
    "\n",
    "def getColorName(R,G,B):\n",
    "    minimum = 10000\n",
    "    for i in range(len(data)):\n",
    "        d = abs(R- int(data.loc[i,\"R\"])) + abs(G-\n",
    "int(data.loc[i,\"G\"]))+ abs(B- int(data.loc[i,\"B\"]))\n",
    "        if(d<=minimum):\n",
    "            minimum = d\n",
    "            cname = data.loc[i,\"color_name\"]\n",
    "    return cname\n",
    "\n",
    "def draw(event,x,y,flags,param):\n",
    "    if event == cv2.EVENT_LBUTTONDBLCLK:\n",
    "        global xp,yp,r,g,b,clicked\n",
    "        clicked=True\n",
    "        xp=x\n",
    "        yp=y\n",
    "        b,g,r=img[y,x]\n",
    "        b=int(b)\n",
    "        g=int(g)\n",
    "        r=int(r)\n",
    "cv2.namedWindow('image')\n",
    "cv2.setMouseCallback('image',draw)\n",
    "while True:\n",
    "    cv2.imshow(\"image\",img)\n",
    "    if clicked:\n",
    "        cv2.rectangle(img,(20,20), (750,60), (b,g,r), -1)\n",
    "        text=getColorName(r,g,b)\n",
    "        cv2.putText(img,text,(50,50),2,0.8,(255,255,255),2,cv2.LINE_AA)\n",
    "        if r+g+b>=600:\n",
    "            cv2.putText(img,text,(50,50),2,0.8,(0,0,0),2,cv2.LINE_AA)\n",
    "        clicked=False\n",
    "    if cv2.waitKey(20) & 0xFF==27:\n",
    "        break\n",
    "cv2.destroyAllWindows()"
   ]
  },
  {
   "cell_type": "code",
   "execution_count": null,
   "id": "b4cf1221",
   "metadata": {},
   "outputs": [],
   "source": []
  }
 ],
 "metadata": {
  "kernelspec": {
   "display_name": "Python 3",
   "language": "python",
   "name": "python3"
  },
  "language_info": {
   "codemirror_mode": {
    "name": "ipython",
    "version": 3
   },
   "file_extension": ".py",
   "mimetype": "text/x-python",
   "name": "python",
   "nbconvert_exporter": "python",
   "pygments_lexer": "ipython3",
   "version": "3.8.8"
  }
 },
 "nbformat": 4,
 "nbformat_minor": 5
}
